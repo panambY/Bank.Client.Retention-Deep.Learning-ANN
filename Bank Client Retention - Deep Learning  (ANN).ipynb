{
 "cells": [
  {
   "cell_type": "markdown",
   "metadata": {
    "_cell_guid": "b1076dfc-b9ad-4769-8c92-a6c4dae69d19",
    "_uuid": "8f2839f25d086af736a60e9eeb907d3b93b6e0e5"
   },
   "source": [
    "# Project - Bank Retention Clients\n",
    "# This is a NLP project that the goal is guess what perfil of client has more tendency to leave the bank account."
   ]
  },
  {
   "cell_type": "code",
   "execution_count": 3,
   "metadata": {
    "_cell_guid": "79c7e3d0-c299-4dcb-8224-4455121ee9b0",
    "_uuid": "d629ff2d2480ee46fbb7e2d37f6b5fab8052498a"
   },
   "outputs": [],
   "source": [
    "# First as always I will import the main libraries.\n",
    "\n",
    "import numpy as np\n",
    "import pandas as pd\n",
    "import matplotlib.pyplot as plt"
   ]
  },
  {
   "cell_type": "code",
   "execution_count": 5,
   "metadata": {
    "_uuid": "e77526619df171675cc3454dbc9d7d9b616725ff"
   },
   "outputs": [
    {
     "data": {
      "text/html": [
       "<div>\n",
       "<style scoped>\n",
       "    .dataframe tbody tr th:only-of-type {\n",
       "        vertical-align: middle;\n",
       "    }\n",
       "\n",
       "    .dataframe tbody tr th {\n",
       "        vertical-align: top;\n",
       "    }\n",
       "\n",
       "    .dataframe thead th {\n",
       "        text-align: right;\n",
       "    }\n",
       "</style>\n",
       "<table border=\"1\" class=\"dataframe\">\n",
       "  <thead>\n",
       "    <tr style=\"text-align: right;\">\n",
       "      <th></th>\n",
       "      <th>RowNumber</th>\n",
       "      <th>CustomerId</th>\n",
       "      <th>Surname</th>\n",
       "      <th>CreditScore</th>\n",
       "      <th>Geography</th>\n",
       "      <th>Gender</th>\n",
       "      <th>Age</th>\n",
       "      <th>Tenure</th>\n",
       "      <th>Balance</th>\n",
       "      <th>NumOfProducts</th>\n",
       "      <th>HasCrCard</th>\n",
       "      <th>IsActiveMember</th>\n",
       "      <th>EstimatedSalary</th>\n",
       "      <th>Exited</th>\n",
       "    </tr>\n",
       "  </thead>\n",
       "  <tbody>\n",
       "    <tr>\n",
       "      <th>0</th>\n",
       "      <td>1</td>\n",
       "      <td>15634602</td>\n",
       "      <td>Hargrave</td>\n",
       "      <td>619</td>\n",
       "      <td>France</td>\n",
       "      <td>Female</td>\n",
       "      <td>42</td>\n",
       "      <td>2</td>\n",
       "      <td>0.00</td>\n",
       "      <td>1</td>\n",
       "      <td>1</td>\n",
       "      <td>1</td>\n",
       "      <td>101348.88</td>\n",
       "      <td>1</td>\n",
       "    </tr>\n",
       "    <tr>\n",
       "      <th>1</th>\n",
       "      <td>2</td>\n",
       "      <td>15647311</td>\n",
       "      <td>Hill</td>\n",
       "      <td>608</td>\n",
       "      <td>Spain</td>\n",
       "      <td>Female</td>\n",
       "      <td>41</td>\n",
       "      <td>1</td>\n",
       "      <td>83807.86</td>\n",
       "      <td>1</td>\n",
       "      <td>0</td>\n",
       "      <td>1</td>\n",
       "      <td>112542.58</td>\n",
       "      <td>0</td>\n",
       "    </tr>\n",
       "    <tr>\n",
       "      <th>2</th>\n",
       "      <td>3</td>\n",
       "      <td>15619304</td>\n",
       "      <td>Onio</td>\n",
       "      <td>502</td>\n",
       "      <td>France</td>\n",
       "      <td>Female</td>\n",
       "      <td>42</td>\n",
       "      <td>8</td>\n",
       "      <td>159660.80</td>\n",
       "      <td>3</td>\n",
       "      <td>1</td>\n",
       "      <td>0</td>\n",
       "      <td>113931.57</td>\n",
       "      <td>1</td>\n",
       "    </tr>\n",
       "    <tr>\n",
       "      <th>3</th>\n",
       "      <td>4</td>\n",
       "      <td>15701354</td>\n",
       "      <td>Boni</td>\n",
       "      <td>699</td>\n",
       "      <td>France</td>\n",
       "      <td>Female</td>\n",
       "      <td>39</td>\n",
       "      <td>1</td>\n",
       "      <td>0.00</td>\n",
       "      <td>2</td>\n",
       "      <td>0</td>\n",
       "      <td>0</td>\n",
       "      <td>93826.63</td>\n",
       "      <td>0</td>\n",
       "    </tr>\n",
       "    <tr>\n",
       "      <th>4</th>\n",
       "      <td>5</td>\n",
       "      <td>15737888</td>\n",
       "      <td>Mitchell</td>\n",
       "      <td>850</td>\n",
       "      <td>Spain</td>\n",
       "      <td>Female</td>\n",
       "      <td>43</td>\n",
       "      <td>2</td>\n",
       "      <td>125510.82</td>\n",
       "      <td>1</td>\n",
       "      <td>1</td>\n",
       "      <td>1</td>\n",
       "      <td>79084.10</td>\n",
       "      <td>0</td>\n",
       "    </tr>\n",
       "  </tbody>\n",
       "</table>\n",
       "</div>"
      ],
      "text/plain": [
       "   RowNumber  CustomerId   ...   EstimatedSalary  Exited\n",
       "0          1    15634602   ...         101348.88       1\n",
       "1          2    15647311   ...         112542.58       0\n",
       "2          3    15619304   ...         113931.57       1\n",
       "3          4    15701354   ...          93826.63       0\n",
       "4          5    15737888   ...          79084.10       0\n",
       "\n",
       "[5 rows x 14 columns]"
      ]
     },
     "execution_count": 5,
     "metadata": {},
     "output_type": "execute_result"
    }
   ],
   "source": [
    "# Now it's time to import the file and check your informations.\n",
    "\n",
    "dataset = pd.read_csv('../input/Churn_Modelling.csv')\n",
    "\n",
    "dataset.head()"
   ]
  },
  {
   "cell_type": "code",
   "execution_count": 6,
   "metadata": {
    "_uuid": "b00daa3e500c569015278c509032dbd992292597"
   },
   "outputs": [],
   "source": [
    "# Before to start a preprocessing the data I have to import the dataset in the variables.\n",
    "\n",
    "X = dataset.iloc[:, 3:13].values\n",
    "y = dataset.iloc[:, 13].values\n",
    "\n",
    "# I put in \"X\" the variable independents and in \"y\" the variable dependent.\n",
    "# Notes that I didn't included \"RowNumber\", \"CustomerId\" and \"Surname\", because none of them is relevant for my model."
   ]
  },
  {
   "cell_type": "code",
   "execution_count": 7,
   "metadata": {
    "_uuid": "97398993c4a2a7aba9b3c59d474673ecb8549844"
   },
   "outputs": [
    {
     "name": "stderr",
     "output_type": "stream",
     "text": [
      "/opt/conda/lib/python3.6/site-packages/sklearn/preprocessing/_encoders.py:363: FutureWarning: The handling of integer data will change in version 0.22. Currently, the categories are determined based on the range [0, max(values)], while in the future they will be determined based on the unique values.\n",
      "If you want the future behaviour and silence this warning, you can specify \"categories='auto'\".\n",
      "In case you used a LabelEncoder before this OneHotEncoder to convert the categories to integers, then you can now use the OneHotEncoder directly.\n",
      "  warnings.warn(msg, FutureWarning)\n"
     ]
    }
   ],
   "source": [
    "# As we can see above there are some columns with categorical values.\n",
    "# Now I will encoding them.\n",
    "# Let's start to preprocessing our dataset.\n",
    "\n",
    "from sklearn.preprocessing import LabelEncoder, OneHotEncoder\n",
    "labelencoder_X_1 = LabelEncoder()\n",
    "# X_1 refers to \"Geography\" column.\n",
    "X[:, 1] = labelencoder_X_1.fit_transform(X[:, 1])\n",
    "labelencoder_X_2 = LabelEncoder()\n",
    "# X_2 refers to \"Gender\" column.\n",
    "X[:, 2] = labelencoder_X_2.fit_transform(X[:, 2])\n",
    "onehotencoder = OneHotEncoder(categorical_features = [1])\n",
    "X = onehotencoder.fit_transform(X).toarray()\n",
    "X = X[:,1:]"
   ]
  },
  {
   "cell_type": "code",
   "execution_count": 9,
   "metadata": {
    "_uuid": "fc7672870d1766446eaa7df3842d17d3b243175d"
   },
   "outputs": [
    {
     "data": {
      "text/plain": [
       "array([[0.0000000e+00, 0.0000000e+00, 6.1900000e+02, ..., 1.0000000e+00,\n",
       "        1.0000000e+00, 1.0134888e+05],\n",
       "       [0.0000000e+00, 1.0000000e+00, 6.0800000e+02, ..., 0.0000000e+00,\n",
       "        1.0000000e+00, 1.1254258e+05],\n",
       "       [0.0000000e+00, 0.0000000e+00, 5.0200000e+02, ..., 1.0000000e+00,\n",
       "        0.0000000e+00, 1.1393157e+05],\n",
       "       ...,\n",
       "       [0.0000000e+00, 0.0000000e+00, 7.0900000e+02, ..., 0.0000000e+00,\n",
       "        1.0000000e+00, 4.2085580e+04],\n",
       "       [1.0000000e+00, 0.0000000e+00, 7.7200000e+02, ..., 1.0000000e+00,\n",
       "        0.0000000e+00, 9.2888520e+04],\n",
       "       [0.0000000e+00, 0.0000000e+00, 7.9200000e+02, ..., 1.0000000e+00,\n",
       "        0.0000000e+00, 3.8190780e+04]])"
      ]
     },
     "execution_count": 9,
     "metadata": {},
     "output_type": "execute_result"
    }
   ],
   "source": [
    "# Let's check if it worked.\n",
    "\n",
    "X\n",
    "\n",
    "# I didn't modify the \"y\" variable, because there is just booleans values and, for my model, is desnecessary encode them."
   ]
  },
  {
   "cell_type": "code",
   "execution_count": 10,
   "metadata": {
    "_uuid": "045e1f20a1f683f3202ac5eb138a5fe585d9d8a3"
   },
   "outputs": [],
   "source": [
    "# Now I will prepare my data before to start my Train and Test set.\n",
    "\n",
    "from sklearn.model_selection import train_test_split\n",
    "X_train, X_test, y_train, y_test = train_test_split(X, y, test_size=0.20, random_state=0)"
   ]
  },
  {
   "cell_type": "code",
   "execution_count": 11,
   "metadata": {
    "_uuid": "5f04284dc18a5c9217f7311ec60dd867cb750dba"
   },
   "outputs": [],
   "source": [
    "# For there isn't any proble with correlations between the values,\n",
    "# I will aplly the \"Feature Scaling\".\n",
    "\n",
    "from  sklearn.preprocessing import StandardScaler\n",
    "sc_X = StandardScaler()\n",
    "X_train = sc_X.fit_transform(X_train)\n",
    "X_test = sc_X.transform(X_test)"
   ]
  },
  {
   "cell_type": "code",
   "execution_count": 12,
   "metadata": {
    "_uuid": "6286a98e990322649f1fa31d873637974e939491"
   },
   "outputs": [
    {
     "name": "stderr",
     "output_type": "stream",
     "text": [
      "Using TensorFlow backend.\n"
     ]
    }
   ],
   "source": [
    "# Now I will start the more excite part: make the ANN!!!!\n",
    "\n",
    "# Firt of all: Let's import the Keras libraries and packages.\n",
    "\n",
    "import keras\n",
    "from keras.models import Sequential\n",
    "from keras.layers import Dense"
   ]
  },
  {
   "cell_type": "code",
   "execution_count": 13,
   "metadata": {
    "_uuid": "cf045d8a76731014d9c429b7f200108d9af76898"
   },
   "outputs": [],
   "source": [
    "# I will inicializing the ANN.\n",
    "# As this problem is solved by Classification algorithms, I will call my variable of \"classifier\".\n",
    "\n",
    "classifier = Sequential()"
   ]
  },
  {
   "cell_type": "code",
   "execution_count": 16,
   "metadata": {
    "_uuid": "35a31fbe9d2bbce7f5d0f0e8b1b2bee50ae2ae70"
   },
   "outputs": [
    {
     "name": "stderr",
     "output_type": "stream",
     "text": [
      "/opt/conda/lib/python3.6/site-packages/ipykernel_launcher.py:3: UserWarning: Update your `Dense` call to the Keras 2 API: `Dense(activation=\"relu\", input_dim=11, units=6, kernel_initializer=\"uniform\")`\n",
      "  This is separate from the ipykernel package so we can avoid doing imports until\n"
     ]
    }
   ],
   "source": [
    "# I will add the input layer and the first hidden layer.\n",
    "\n",
    "classifier.add(Dense(output_dim=6, init='uniform', activation='relu', input_dim=11))\n",
    "\n",
    "# In \"output_dim\" I used a not best technique that is get the quantity of output plus input and divide by 2, so 11 + 1 / 2 = 6.\n",
    "# In \"Activiation\" I used the best function for hidden layers: \"relu\"."
   ]
  },
  {
   "cell_type": "code",
   "execution_count": 17,
   "metadata": {
    "_uuid": "e52e6614c14cd41240f0ffe7e5ddc1194c5908eb"
   },
   "outputs": [
    {
     "name": "stderr",
     "output_type": "stream",
     "text": [
      "/opt/conda/lib/python3.6/site-packages/ipykernel_launcher.py:3: UserWarning: Update your `Dense` call to the Keras 2 API: `Dense(activation=\"relu\", units=6, kernel_initializer=\"uniform\")`\n",
      "  This is separate from the ipykernel package so we can avoid doing imports until\n"
     ]
    }
   ],
   "source": [
    "# Adding the second layer.\n",
    "\n",
    "classifier.add(Dense(output_dim=6, init='uniform', activation='relu'))\n",
    "\n",
    "# Note that this time I didn't insert the \"input_dim\" paramether, because now I Know how many input I have in my ANN."
   ]
  },
  {
   "cell_type": "code",
   "execution_count": 18,
   "metadata": {
    "_uuid": "d1f244453105920a26caa8a52e6caf9d3d5ef4ac"
   },
   "outputs": [
    {
     "name": "stderr",
     "output_type": "stream",
     "text": [
      "/opt/conda/lib/python3.6/site-packages/ipykernel_launcher.py:3: UserWarning: Update your `Dense` call to the Keras 2 API: `Dense(activation=\"sigmoid\", units=1, kernel_initializer=\"uniform\")`\n",
      "  This is separate from the ipykernel package so we can avoid doing imports until\n"
     ]
    }
   ],
   "source": [
    "# Almost finish. Now I will add the output layer.\n",
    "\n",
    "classifier.add(Dense(output_dim=1, init='uniform', activation='sigmoid'))\n",
    "\n",
    "# In \"output_dim\" I put one because I have to guess only the clients who leaves the bank accounts.\n",
    "# In \"activation\" I use the best function for it: \"sigmoid\""
   ]
  },
  {
   "cell_type": "code",
   "execution_count": 19,
   "metadata": {
    "_uuid": "d5b9b5e280629ff55f2c9c97f3f8c232490c7a91"
   },
   "outputs": [],
   "source": [
    "# Compiling the ANN.\n",
    "\n",
    "classifier.compile(optimizer='adam', loss='binary_crossentropy', metrics=['accuracy'])\n",
    "\n",
    "# If I have more than one output, I would have to use in loss paramether other cross entropy."
   ]
  },
  {
   "cell_type": "code",
   "execution_count": 20,
   "metadata": {
    "_uuid": "9eba348b4f6153a4e987f00c37baf479548e05b1"
   },
   "outputs": [
    {
     "name": "stderr",
     "output_type": "stream",
     "text": [
      "/opt/conda/lib/python3.6/site-packages/ipykernel_launcher.py:3: UserWarning: The `nb_epoch` argument in `fit` has been renamed `epochs`.\n",
      "  This is separate from the ipykernel package so we can avoid doing imports until\n"
     ]
    },
    {
     "name": "stdout",
     "output_type": "stream",
     "text": [
      "Epoch 1/100\n",
      "8000/8000 [==============================] - 1s 166us/step - loss: 0.4992 - acc: 0.7952\n",
      "Epoch 2/100\n",
      "8000/8000 [==============================] - 1s 105us/step - loss: 0.4308 - acc: 0.7960\n",
      "Epoch 3/100\n",
      "8000/8000 [==============================] - 1s 101us/step - loss: 0.4274 - acc: 0.7960\n",
      "Epoch 4/100\n",
      "8000/8000 [==============================] - 1s 98us/step - loss: 0.4236 - acc: 0.8010\n",
      "Epoch 5/100\n",
      "8000/8000 [==============================] - 1s 99us/step - loss: 0.4197 - acc: 0.8204\n",
      "Epoch 6/100\n",
      "8000/8000 [==============================] - 1s 98us/step - loss: 0.4164 - acc: 0.8264\n",
      "Epoch 7/100\n",
      "8000/8000 [==============================] - 1s 98us/step - loss: 0.4138 - acc: 0.8305\n",
      "Epoch 8/100\n",
      "8000/8000 [==============================] - 1s 99us/step - loss: 0.4120 - acc: 0.8329\n",
      "Epoch 9/100\n",
      "8000/8000 [==============================] - 1s 99us/step - loss: 0.4101 - acc: 0.8315\n",
      "Epoch 10/100\n",
      "8000/8000 [==============================] - 1s 100us/step - loss: 0.4085 - acc: 0.8335\n",
      "Epoch 11/100\n",
      "8000/8000 [==============================] - 1s 98us/step - loss: 0.4081 - acc: 0.8344\n",
      "Epoch 12/100\n",
      "8000/8000 [==============================] - 1s 100us/step - loss: 0.4069 - acc: 0.8344\n",
      "Epoch 13/100\n",
      "8000/8000 [==============================] - 1s 99us/step - loss: 0.4065 - acc: 0.8344\n",
      "Epoch 14/100\n",
      "8000/8000 [==============================] - 1s 99us/step - loss: 0.4057 - acc: 0.8341\n",
      "Epoch 15/100\n",
      "8000/8000 [==============================] - 1s 100us/step - loss: 0.4056 - acc: 0.8347\n",
      "Epoch 16/100\n",
      "8000/8000 [==============================] - 1s 100us/step - loss: 0.4049 - acc: 0.8347\n",
      "Epoch 17/100\n",
      "8000/8000 [==============================] - 1s 100us/step - loss: 0.4043 - acc: 0.8347\n",
      "Epoch 18/100\n",
      "8000/8000 [==============================] - 1s 102us/step - loss: 0.4043 - acc: 0.8340\n",
      "Epoch 19/100\n",
      "8000/8000 [==============================] - 1s 99us/step - loss: 0.4043 - acc: 0.8344\n",
      "Epoch 20/100\n",
      "8000/8000 [==============================] - 1s 98us/step - loss: 0.4033 - acc: 0.8349\n",
      "Epoch 21/100\n",
      "8000/8000 [==============================] - 1s 98us/step - loss: 0.4032 - acc: 0.8356\n",
      "Epoch 22/100\n",
      "8000/8000 [==============================] - 1s 100us/step - loss: 0.4027 - acc: 0.8329\n",
      "Epoch 23/100\n",
      "8000/8000 [==============================] - 1s 99us/step - loss: 0.4027 - acc: 0.8346\n",
      "Epoch 24/100\n",
      "8000/8000 [==============================] - 1s 99us/step - loss: 0.4025 - acc: 0.8340\n",
      "Epoch 25/100\n",
      "8000/8000 [==============================] - 1s 99us/step - loss: 0.4020 - acc: 0.8345\n",
      "Epoch 26/100\n",
      "8000/8000 [==============================] - 1s 98us/step - loss: 0.4020 - acc: 0.8339\n",
      "Epoch 27/100\n",
      "8000/8000 [==============================] - 1s 99us/step - loss: 0.4021 - acc: 0.8351\n",
      "Epoch 28/100\n",
      "8000/8000 [==============================] - 1s 98us/step - loss: 0.4014 - acc: 0.8345\n",
      "Epoch 29/100\n",
      "8000/8000 [==============================] - 1s 98us/step - loss: 0.4019 - acc: 0.8352\n",
      "Epoch 30/100\n",
      "8000/8000 [==============================] - 1s 100us/step - loss: 0.4017 - acc: 0.8345\n",
      "Epoch 31/100\n",
      "8000/8000 [==============================] - 1s 98us/step - loss: 0.4015 - acc: 0.8347\n",
      "Epoch 32/100\n",
      "8000/8000 [==============================] - 1s 99us/step - loss: 0.4009 - acc: 0.8329\n",
      "Epoch 33/100\n",
      "8000/8000 [==============================] - 1s 98us/step - loss: 0.4011 - acc: 0.8364\n",
      "Epoch 34/100\n",
      "8000/8000 [==============================] - 1s 98us/step - loss: 0.4007 - acc: 0.8354\n",
      "Epoch 35/100\n",
      "8000/8000 [==============================] - 1s 100us/step - loss: 0.4013 - acc: 0.8360\n",
      "Epoch 36/100\n",
      "8000/8000 [==============================] - 1s 99us/step - loss: 0.4012 - acc: 0.8347\n",
      "Epoch 37/100\n",
      "8000/8000 [==============================] - 1s 98us/step - loss: 0.4011 - acc: 0.8357\n",
      "Epoch 38/100\n",
      "8000/8000 [==============================] - 1s 98us/step - loss: 0.4012 - acc: 0.8330\n",
      "Epoch 39/100\n",
      "8000/8000 [==============================] - 1s 98us/step - loss: 0.4008 - acc: 0.8339\n",
      "Epoch 40/100\n",
      "8000/8000 [==============================] - 1s 97us/step - loss: 0.4008 - acc: 0.8340\n",
      "Epoch 41/100\n",
      "8000/8000 [==============================] - 1s 98us/step - loss: 0.4008 - acc: 0.8346\n",
      "Epoch 42/100\n",
      "8000/8000 [==============================] - 1s 98us/step - loss: 0.4010 - acc: 0.8350\n",
      "Epoch 43/100\n",
      "8000/8000 [==============================] - 1s 99us/step - loss: 0.4010 - acc: 0.8357\n",
      "Epoch 44/100\n",
      "8000/8000 [==============================] - 1s 99us/step - loss: 0.4011 - acc: 0.8357\n",
      "Epoch 45/100\n",
      "8000/8000 [==============================] - 1s 98us/step - loss: 0.4011 - acc: 0.8347\n",
      "Epoch 46/100\n",
      "8000/8000 [==============================] - 1s 98us/step - loss: 0.4006 - acc: 0.8342\n",
      "Epoch 47/100\n",
      "8000/8000 [==============================] - 1s 98us/step - loss: 0.4008 - acc: 0.8354\n",
      "Epoch 48/100\n",
      "8000/8000 [==============================] - 1s 101us/step - loss: 0.4007 - acc: 0.8340\n",
      "Epoch 49/100\n",
      "8000/8000 [==============================] - 1s 99us/step - loss: 0.4003 - acc: 0.8346\n",
      "Epoch 50/100\n",
      "8000/8000 [==============================] - 1s 99us/step - loss: 0.4011 - acc: 0.8341\n",
      "Epoch 51/100\n",
      "8000/8000 [==============================] - 1s 98us/step - loss: 0.4004 - acc: 0.8334\n",
      "Epoch 52/100\n",
      "8000/8000 [==============================] - 1s 99us/step - loss: 0.4005 - acc: 0.8344\n",
      "Epoch 53/100\n",
      "8000/8000 [==============================] - 1s 98us/step - loss: 0.4006 - acc: 0.8350\n",
      "Epoch 54/100\n",
      "8000/8000 [==============================] - 1s 99us/step - loss: 0.4004 - acc: 0.8330\n",
      "Epoch 55/100\n",
      "8000/8000 [==============================] - 1s 99us/step - loss: 0.4002 - acc: 0.8342\n",
      "Epoch 56/100\n",
      "8000/8000 [==============================] - 1s 99us/step - loss: 0.4008 - acc: 0.8356\n",
      "Epoch 57/100\n",
      "8000/8000 [==============================] - 1s 98us/step - loss: 0.3999 - acc: 0.8350\n",
      "Epoch 58/100\n",
      "8000/8000 [==============================] - 1s 98us/step - loss: 0.4004 - acc: 0.8332\n",
      "Epoch 59/100\n",
      "8000/8000 [==============================] - 1s 99us/step - loss: 0.4003 - acc: 0.8331\n",
      "Epoch 60/100\n",
      "8000/8000 [==============================] - 1s 98us/step - loss: 0.4005 - acc: 0.8347\n",
      "Epoch 61/100\n",
      "8000/8000 [==============================] - 1s 98us/step - loss: 0.4004 - acc: 0.8364\n",
      "Epoch 62/100\n",
      "8000/8000 [==============================] - 1s 99us/step - loss: 0.4004 - acc: 0.8339\n",
      "Epoch 63/100\n",
      "8000/8000 [==============================] - 1s 98us/step - loss: 0.4003 - acc: 0.8335\n",
      "Epoch 64/100\n",
      "8000/8000 [==============================] - 1s 97us/step - loss: 0.4004 - acc: 0.8337\n",
      "Epoch 65/100\n",
      "8000/8000 [==============================] - 1s 98us/step - loss: 0.4010 - acc: 0.8349\n",
      "Epoch 66/100\n",
      "8000/8000 [==============================] - 1s 99us/step - loss: 0.4004 - acc: 0.8350\n",
      "Epoch 67/100\n",
      "8000/8000 [==============================] - 1s 99us/step - loss: 0.3998 - acc: 0.8350\n",
      "Epoch 68/100\n",
      "8000/8000 [==============================] - 1s 98us/step - loss: 0.4000 - acc: 0.8356\n",
      "Epoch 69/100\n",
      "8000/8000 [==============================] - 1s 97us/step - loss: 0.4003 - acc: 0.8347\n",
      "Epoch 70/100\n",
      "8000/8000 [==============================] - 1s 97us/step - loss: 0.4006 - acc: 0.8340\n",
      "Epoch 71/100\n",
      "8000/8000 [==============================] - 1s 98us/step - loss: 0.4004 - acc: 0.8339\n",
      "Epoch 72/100\n",
      "8000/8000 [==============================] - 1s 98us/step - loss: 0.4003 - acc: 0.8345\n",
      "Epoch 73/100\n",
      "8000/8000 [==============================] - 1s 98us/step - loss: 0.4005 - acc: 0.8336\n",
      "Epoch 74/100\n",
      "8000/8000 [==============================] - 1s 98us/step - loss: 0.3939 - acc: 0.8376\n",
      "Epoch 75/100\n",
      "8000/8000 [==============================] - 1s 98us/step - loss: 0.3724 - acc: 0.8484\n",
      "Epoch 76/100\n",
      "8000/8000 [==============================] - 1s 99us/step - loss: 0.3563 - acc: 0.8535\n",
      "Epoch 77/100\n",
      "8000/8000 [==============================] - 1s 99us/step - loss: 0.3486 - acc: 0.8575\n",
      "Epoch 78/100\n",
      "8000/8000 [==============================] - 1s 99us/step - loss: 0.3455 - acc: 0.8596\n",
      "Epoch 79/100\n",
      "8000/8000 [==============================] - 1s 100us/step - loss: 0.3435 - acc: 0.8594\n",
      "Epoch 80/100\n",
      "8000/8000 [==============================] - 1s 99us/step - loss: 0.3429 - acc: 0.8595\n",
      "Epoch 81/100\n",
      "8000/8000 [==============================] - 1s 99us/step - loss: 0.3412 - acc: 0.8607\n",
      "Epoch 82/100\n",
      "8000/8000 [==============================] - 1s 100us/step - loss: 0.3405 - acc: 0.8631\n",
      "Epoch 83/100\n",
      "8000/8000 [==============================] - 1s 99us/step - loss: 0.3399 - acc: 0.8621\n",
      "Epoch 84/100\n",
      "8000/8000 [==============================] - 1s 99us/step - loss: 0.3393 - acc: 0.8631\n",
      "Epoch 85/100\n",
      "8000/8000 [==============================] - 1s 98us/step - loss: 0.3387 - acc: 0.8620\n",
      "Epoch 86/100\n",
      "8000/8000 [==============================] - 1s 98us/step - loss: 0.3381 - acc: 0.8626\n",
      "Epoch 87/100\n",
      "8000/8000 [==============================] - 1s 98us/step - loss: 0.3383 - acc: 0.8630\n",
      "Epoch 88/100\n",
      "8000/8000 [==============================] - 1s 99us/step - loss: 0.3376 - acc: 0.8632\n",
      "Epoch 89/100\n",
      "8000/8000 [==============================] - 1s 101us/step - loss: 0.3376 - acc: 0.8642\n",
      "Epoch 90/100\n",
      "8000/8000 [==============================] - 1s 99us/step - loss: 0.3375 - acc: 0.8621\n",
      "Epoch 91/100\n",
      "8000/8000 [==============================] - 1s 99us/step - loss: 0.3373 - acc: 0.8629\n",
      "Epoch 92/100\n",
      "8000/8000 [==============================] - 1s 100us/step - loss: 0.3370 - acc: 0.8636\n",
      "Epoch 93/100\n",
      "8000/8000 [==============================] - 1s 99us/step - loss: 0.3372 - acc: 0.8654\n",
      "Epoch 94/100\n",
      "8000/8000 [==============================] - 1s 99us/step - loss: 0.3370 - acc: 0.8630\n",
      "Epoch 95/100\n",
      "8000/8000 [==============================] - 1s 99us/step - loss: 0.3363 - acc: 0.8640\n",
      "Epoch 96/100\n",
      "8000/8000 [==============================] - 1s 99us/step - loss: 0.3368 - acc: 0.8634\n",
      "Epoch 97/100\n",
      "8000/8000 [==============================] - 1s 97us/step - loss: 0.3363 - acc: 0.8637\n",
      "Epoch 98/100\n",
      "8000/8000 [==============================] - 1s 99us/step - loss: 0.3367 - acc: 0.8645\n",
      "Epoch 99/100\n",
      "8000/8000 [==============================] - 1s 98us/step - loss: 0.3361 - acc: 0.8651\n",
      "Epoch 100/100\n",
      "8000/8000 [==============================] - 1s 98us/step - loss: 0.3362 - acc: 0.8636\n"
     ]
    },
    {
     "data": {
      "text/plain": [
       "<keras.callbacks.History at 0x7fc87d852748>"
      ]
     },
     "execution_count": 20,
     "metadata": {},
     "output_type": "execute_result"
    }
   ],
   "source": [
    "# Let's do the ANN work for us!!!!\n",
    "\n",
    "classifier.fit(X_train, y_train, batch_size=10, nb_epoch=100)"
   ]
  },
  {
   "cell_type": "markdown",
   "metadata": {
    "_uuid": "1bf163c5ecb10aa76e59e934723e85ed7926fb82"
   },
   "source": [
    "# That's AMAZING!!!\n",
    "# When you see the artificial brains which you built working on real-time!!!"
   ]
  },
  {
   "cell_type": "code",
   "execution_count": 23,
   "metadata": {
    "_uuid": "9b48fbffedcae1ad36a6b0fa76756895759d430e"
   },
   "outputs": [],
   "source": [
    "# Now our ANN model is done and Let's predict the result.\n",
    "\n",
    "y_pred = classifier.predict(X_test)\n",
    "y_pred = (y_pred > 0.5)"
   ]
  },
  {
   "cell_type": "code",
   "execution_count": 24,
   "metadata": {
    "_uuid": "1e7e394c7ee2f89be4a7d89174613dce6dcd1629"
   },
   "outputs": [],
   "source": [
    "# Let's make the Confusion Matrix and see if this model is good enought to be delivery to client.\n",
    "\n",
    "from sklearn.metrics import confusion_matrix\n",
    "cm = confusion_matrix(y_test, y_pred)"
   ]
  },
  {
   "cell_type": "code",
   "execution_count": 25,
   "metadata": {
    "_uuid": "1efb77069b71a787fed22bedd97af8e243c95829"
   },
   "outputs": [
    {
     "data": {
      "text/plain": [
       "array([[1507,   88],\n",
       "       [ 189,  216]])"
      ]
     },
     "execution_count": 25,
     "metadata": {},
     "output_type": "execute_result"
    }
   ],
   "source": [
    "# Let's see the result....\n",
    "\n",
    "cm"
   ]
  },
  {
   "cell_type": "code",
   "execution_count": 26,
   "metadata": {
    "_uuid": "e6320bbfca5902d4704f9b9b31d298a472a9a9c3"
   },
   "outputs": [
    {
     "data": {
      "text/plain": [
       "0.8615"
      ]
     },
     "execution_count": 26,
     "metadata": {},
     "output_type": "execute_result"
    }
   ],
   "source": [
    "# In order to be more easy to see the porcentage, let's do a simple calculus.\n",
    "\n",
    "(1507 + 216)/2000\n",
    "\n",
    "# That's good!!!"
   ]
  },
  {
   "cell_type": "markdown",
   "metadata": {
    "_uuid": "cfc46590f51c500f09f0cb516cd3f12765fc62c4"
   },
   "source": [
    "# Was fantastic do my first Deep Learnig Project and share with you.\n",
    "\n",
    "# See you in the next Project!!! 😎🚀👍"
   ]
  }
 ],
 "metadata": {
  "kernelspec": {
   "display_name": "Python 3",
   "language": "python",
   "name": "python3"
  },
  "language_info": {
   "codemirror_mode": {
    "name": "ipython",
    "version": 3
   },
   "file_extension": ".py",
   "mimetype": "text/x-python",
   "name": "python",
   "nbconvert_exporter": "python",
   "pygments_lexer": "ipython3",
   "version": "3.6.5"
  }
 },
 "nbformat": 4,
 "nbformat_minor": 1
}
